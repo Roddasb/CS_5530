{
  "nbformat": 4,
  "nbformat_minor": 0,
  "metadata": {
    "colab": {
      "provenance": [],
      "authorship_tag": "ABX9TyMrHtxre/9xDEGiyWTN+0Bt",
      "include_colab_link": true
    },
    "kernelspec": {
      "name": "python3",
      "display_name": "Python 3"
    },
    "language_info": {
      "name": "python"
    }
  },
  "cells": [
    {
      "cell_type": "markdown",
      "metadata": {
        "id": "view-in-github",
        "colab_type": "text"
      },
      "source": [
        "<a href=\"https://colab.research.google.com/github/Roddasb/CS_5530/blob/main/Frailty_Score_2_12_24.ipynb\" target=\"_parent\"><img src=\"https://colab.research.google.com/assets/colab-badge.svg\" alt=\"Open In Colab\"/></a>"
      ]
    },
    {
      "cell_type": "code",
      "source": [
        "import pandas as pd\n",
        "from scipy.stats import ttest_ind\n",
        "import seaborn as sns\n",
        "import matplotlib.pyplot as plt\n",
        "import statsmodels.api as sm\n",
        "\n",
        "# Read the data from the CSV file\n",
        "df = pd.read_csv(\"/content/Clean_Frailty_Score.csv\")\n",
        "\n",
        "# Perform descriptive statistics\n",
        "descriptive_stats = df.describe()\n",
        "\n",
        "# Display the descriptive statistics\n",
        "print(descriptive_stats)\n",
        "\n",
        "# Perform t-test\n",
        "t_statistic, p_value = ttest_ind(df[df['Frailty'] == 0]['Grip strength'], df[df['Frailty'] == 1]['Grip strength'])\n",
        "\n",
        "# Display the preprocessed dataset\n",
        "print(\"\\nPreprocessed Dataset:\")\n",
        "print(df)\n",
        "\n",
        "# Print t-test results\n",
        "print(\"\\nT-Statistic:\", t_statistic)\n",
        "print(\"P-Value:\", p_value)\n",
        "\n",
        "# Calculate correlation matrix\n",
        "correlation_matrix = df.corr()\n",
        "\n",
        "# Display correlation matrix\n",
        "print(\"Correlation Matrix:\")\n",
        "print(correlation_matrix)\n",
        "\n",
        "\n",
        "\n",
        "# Visualization of age distribution by frailty category\n",
        "plt.figure(figsize=(10, 6))\n",
        "sns.boxplot(data=df, x='Frailty', y='Age')\n",
        "plt.title('Age Distribution by Frailty')\n",
        "plt.xlabel('Frailty')\n",
        "plt.ylabel('Age')\n",
        "plt.show()\n",
        "\n",
        "# Summary statistics of age by frailty category\n",
        "summary_stats = df.groupby('Frailty')['Age'].describe()\n",
        "print(\"Summary Statistics of Age by Frailty:\")\n",
        "print(summary_stats)\n",
        "\n",
        "# Define the independent variables (age and grip strength)\n",
        "X = df[['Age', 'Grip strength']]\n",
        "\n",
        "# Add constant for the intercept term\n",
        "X = sm.add_constant(X)\n",
        "\n",
        "# Define the dependent variable (frailty score)\n",
        "y = df['Frailty']\n",
        "\n",
        "# Fit logistic regression model\n",
        "logit_model = sm.Logit(y, X)\n",
        "result = logit_model.fit()\n",
        "\n",
        "# Print summary of logistic regression\n",
        "print(result.summary())"
      ],
      "metadata": {
        "colab": {
          "base_uri": "https://localhost:8080/",
          "height": 1000
        },
        "id": "ndroIQQQY8vK",
        "outputId": "5c43e2f1-1bc3-4c25-9a70-4e169ec76c9a"
      },
      "execution_count": 9,
      "outputs": [
        {
          "output_type": "stream",
          "name": "stdout",
          "text": [
            "          Height      Weight        Age  Grip strength    Frailty\n",
            "count  10.000000   10.000000  10.000000      10.000000  10.000000\n",
            "mean   68.600000  131.900000  32.500000      26.000000   0.400000\n",
            "std     1.670662   14.231811  12.860361       4.521553   0.516398\n",
            "min    65.800000  112.000000  17.000000      19.000000   0.000000\n",
            "25%    67.825000  120.750000  22.250000      22.500000   0.000000\n",
            "50%    68.450000  136.000000  29.500000      27.000000   0.000000\n",
            "75%    69.700000  141.750000  43.500000      29.750000   1.000000\n",
            "max    71.500000  153.000000  51.000000      31.000000   1.000000\n",
            "\n",
            "Preprocessed Dataset:\n",
            "   Height  Weight  Age  Grip strength  Frailty\n",
            "0    65.8     112   30             30        0\n",
            "1    71.5     136   19             31        0\n",
            "2    69.4     153   45             29        0\n",
            "3    68.2     142   22             28        1\n",
            "4    67.8     144   29             24        1\n",
            "5    68.7     123   50             26        0\n",
            "6    69.8     141   51             22        1\n",
            "7    70.1     136   23             20        1\n",
            "8    67.9     112   17             19        0\n",
            "9    66.8     120   39             31        0\n",
            "\n",
            "T-Statistic: 1.5303334194571003\n",
            "P-Value: 0.1644646461051128\n",
            "Correlation Matrix:\n",
            "                 Height    Weight       Age  Grip strength   Frailty\n",
            "Height         1.000000  0.571525 -0.032580      -0.167682  0.193186\n",
            "Weight         0.571525  1.000000  0.190926       0.032807  0.535200\n",
            "Age           -0.032580  0.190926  1.000000       0.133756 -0.083655\n",
            "Grip strength -0.167682  0.032807  0.133756       1.000000 -0.475867\n",
            "Frailty        0.193186  0.535200 -0.083655      -0.475867  1.000000\n"
          ]
        },
        {
          "output_type": "display_data",
          "data": {
            "text/plain": [
              "<Figure size 1000x600 with 1 Axes>"
            ],
            "image/png": "[encoded data removed]"
          },
          "metadata": {}
        },
        {
          "output_type": "stream",
          "name": "stdout",
          "text": [
            "Summary Statistics of Age by Frailty:\n",
            "         count       mean        std   min    25%   50%   75%   max\n",
            "Frailty                                                            \n",
            "0          6.0  33.333333  13.633293  17.0  21.75  34.5  43.5  50.0\n",
            "1          4.0  31.250000  13.524669  22.0  22.75  26.0  34.5  51.0\n",
            "Optimization terminated successfully.\n",
            "         Current function value: 0.554207\n",
            "         Iterations 5\n",
            "                           Logit Regression Results                           \n",
            "==============================================================================\n",
            "Dep. Variable:                Frailty   No. Observations:                   10\n",
            "Model:                          Logit   Df Residuals:                        7\n",
            "Method:                           MLE   Df Model:                            2\n",
            "Date:                Tue, 13 Feb 2024   Pseudo R-squ.:                  0.1765\n",
            "Time:                        03:10:46   Log-Likelihood:                -5.5421\n",
            "converged:                       True   LL-Null:                       -6.7301\n",
            "Covariance Type:            nonrobust   LLR p-value:                    0.3048\n",
            "=================================================================================\n",
            "                    coef    std err          z      P>|z|      [0.025      0.975]\n",
            "---------------------------------------------------------------------------------\n",
            "const             6.1553      4.904      1.255      0.209      -3.456      15.766\n",
            "Age              -0.0029      0.059     -0.049      0.961      -0.119       0.113\n",
            "Grip strength    -0.2518      0.182     -1.381      0.167      -0.609       0.106\n",
            "=================================================================================\n"
          ]
        }
      ]
    }
  ]
}